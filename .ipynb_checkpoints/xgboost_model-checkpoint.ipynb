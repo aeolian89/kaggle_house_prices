{
 "cells": [
  {
   "cell_type": "code",
   "execution_count": 1,
   "metadata": {},
   "outputs": [],
   "source": [
    "import os"
   ]
  },
  {
   "cell_type": "code",
   "execution_count": 2,
   "metadata": {},
   "outputs": [],
   "source": [
    "mingw_path = 'C:\\\\Program Files\\\\mingw-w64\\\\x86_64-8.1.0-posix-seh-rt_v6-rev0\\\\mingw64\\\\bin'\n",
    "os.environ['PATH'] = mingw_path + ';' + os.environ['PATH']"
   ]
  },
  {
   "cell_type": "code",
   "execution_count": 3,
   "metadata": {},
   "outputs": [],
   "source": [
    "import xgboost as xgb"
   ]
  },
  {
   "cell_type": "code",
   "execution_count": 4,
   "metadata": {},
   "outputs": [],
   "source": [
    "# Below is the random forest model -- change this to xgboost and mimic in another function"
   ]
  },
  {
   "cell_type": "code",
   "execution_count": null,
   "metadata": {},
   "outputs": [],
   "source": [
    "# Function to train a random forest model\n",
    "\n",
    "def random_forest_model(df_processed, target):\n",
    "    print(\"Building random forest model...\")\n",
    "    X_train, X_test, y_train, y_test = train_test_split(df_processed, target, test_size=0.2, random_state=23)\n",
    "    \n",
    "    parameters= {\n",
    "        'max_depth':[12],\n",
    "        'min_samples_leaf':[2],\n",
    "        'min_samples_split':[2],\n",
    "        'n_estimators':[150, 300, 500],\n",
    "        'bootstrap':[True]\n",
    "    }\n",
    "    forest = RandomForestRegressor(n_jobs=4, random_state=42)\n",
    "    optimized_model = GridSearchCV(forest, parameters)\n",
    "    \n",
    "    optimized_model.fit(X_train, y_train)\n",
    "    \n",
    "    print(\"The model's R2 score is: {}\".format(optimized_model.best_estimator_.score(X_test, y_test)))\n",
    "    return optimized_model.best_estimator_\n",
    "\n",
    "# returns rf model object"
   ]
  },
  {
   "cell_type": "code",
   "execution_count": null,
   "metadata": {},
   "outputs": [],
   "source": []
  }
 ],
 "metadata": {
  "kernelspec": {
   "display_name": "Python 3",
   "language": "python",
   "name": "python3"
  },
  "language_info": {
   "codemirror_mode": {
    "name": "ipython",
    "version": 3
   },
   "file_extension": ".py",
   "mimetype": "text/x-python",
   "name": "python",
   "nbconvert_exporter": "python",
   "pygments_lexer": "ipython3",
   "version": "3.6.6"
  }
 },
 "nbformat": 4,
 "nbformat_minor": 2
}
