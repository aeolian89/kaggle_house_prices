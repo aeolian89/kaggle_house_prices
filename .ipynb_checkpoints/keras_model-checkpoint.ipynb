{
 "cells": [
  {
   "cell_type": "code",
   "execution_count": 2,
   "metadata": {},
   "outputs": [],
   "source": [
    "# Keras Nerual Network Model Notebook"
   ]
  },
  {
   "cell_type": "code",
   "execution_count": 3,
   "metadata": {},
   "outputs": [],
   "source": [
    "# ---------------------------------- #"
   ]
  },
  {
   "cell_type": "code",
   "execution_count": 6,
   "metadata": {},
   "outputs": [],
   "source": [
    "# import functions from model_functions notebook"
   ]
  },
  {
   "cell_type": "code",
   "execution_count": 325,
   "metadata": {},
   "outputs": [],
   "source": [
    "top_features = [\n",
    "     'LotArea',\n",
    "     'LotFrontage',\n",
    "     'BsmtUnfSF',\n",
    "     'GrLivArea',\n",
    "     'OverallQual',\n",
    "     'HouseSFScore',\n",
    "     'BsmtFinSF1',\n",
    "     'GarageArea',\n",
    "     'PorchScore',\n",
    "     'BsmtIncompleteRatio',\n",
    "     '2ndFlrSF',\n",
    "     'GarageYrBlt',\n",
    "     'MasVnrArea',\n",
    "     'overallScore',\n",
    "     'WoodDeckSF',\n",
    "     '1stFlrSF',\n",
    "     'YearBuilt',\n",
    "     'OverallCond',\n",
    "     'ageScore',\n",
    "     'TotalBsmtSF',\n",
    "     'YearRemodAdd',\n",
    "     'BathScore',\n",
    "     'Neighborhood_StoneBr',\n",
    "     'OpenPorchSF',\n",
    "     'YrSold',\n",
    "     'BsmtFinSF2',\n",
    "     'Neighborhood_Crawfor',\n",
    "     'ScreenPorch',\n",
    "     'Functional_NonTyp',\n",
    "     'Neighborhood_Somerst'\n",
    "]"
   ]
  },
  {
   "cell_type": "code",
   "execution_count": 262,
   "metadata": {},
   "outputs": [],
   "source": [
    "from keras import backend as K\n",
    "from keras.optimizers import Adam, RMSprop\n",
    "from keras import regularizers"
   ]
  },
  {
   "cell_type": "code",
   "execution_count": 4,
   "metadata": {},
   "outputs": [],
   "source": [
    "%run -i model_functions.ipynb"
   ]
  },
  {
   "cell_type": "code",
   "execution_count": 155,
   "metadata": {},
   "outputs": [],
   "source": [
    "# Function to call all feature engineering functions\n",
    "def feature_engineering(df):\n",
    "    print(\"Starting feature engineering...\")\n",
    "    df = year_to_age(df)\n",
    "    df = build_meta_features(df)\n",
    "    df = log_xform_features(df)\n",
    "    print(\"Feature engineering complete.\")\n",
    "    return df"
   ]
  },
  {
   "cell_type": "code",
   "execution_count": 154,
   "metadata": {},
   "outputs": [],
   "source": [
    "def log_xform(df):\n",
    "    df = log_xform_features(df)\n",
    "    return df"
   ]
  },
  {
   "cell_type": "code",
   "execution_count": 214,
   "metadata": {},
   "outputs": [],
   "source": [
    "def run_model():\n",
    "    \n",
    "    train_data, test_data = get_data()\n",
    "    target = train_data['SalePrice']\n",
    "    train_data = remove_null_columns(train_data)\n",
    "    numerical_features, categorical_features = get_feature_lists(train_data)\n",
    "    \n",
    "    df_num_train, df_cat_train = impute_features(train_data[numerical_features].copy(), train_data[categorical_features].copy())\n",
    "    df_num_test, df_cat_test = impute_features(test_data[numerical_features].copy(), test_data[categorical_features].copy())\n",
    "    \n",
    "    df_num_train, df_num_test = feature_engineering(df_num_train.copy()), feature_engineering(df_num_test.copy())\n",
    "    df_num_train, df_num_test = scale_features(df_num_train.copy()), scale_features(df_num_test.copy())\n",
    "    \n",
    "    common_categories = prune_categorical_features(df_cat_train, df_cat_test)\n",
    "    \n",
    "    df_train = combine_dataframes(df_num_train, df_cat_train[common_categories])\n",
    "    df_test = combine_dataframes(df_num_test, df_cat_test[common_categories])\n",
    "    \n",
    "#     df_train = feature_engineering(df_train.copy())\n",
    "#     df_test = feature_engineering(df_test.copy())\n",
    "    \n",
    "    # Change the line below to substitute different models\n",
    "    model = keras_model(df_train, target=target)\n",
    "    \n",
    "    predictions = model.predict(df_test)\n",
    "    \n",
    "    create_submission(test_data, predictions)\n",
    "    \n",
    "    return model, df_train"
   ]
  },
  {
   "cell_type": "code",
   "execution_count": 264,
   "metadata": {},
   "outputs": [],
   "source": [
    "import keras\n",
    "from keras.models import Sequential\n",
    "from keras.layers import Dense, Dropout, Activation\n",
    "from keras.wrappers.scikit_learn import KerasRegressor\n",
    "from sklearn.model_selection import cross_val_score\n",
    "from sklearn.model_selection import KFold\n",
    "from sklearn.preprocessing import StandardScaler\n",
    "from sklearn.preprocessing import MinMaxScaler\n",
    "from sklearn.pipeline import Pipeline"
   ]
  },
  {
   "cell_type": "code",
   "execution_count": 216,
   "metadata": {},
   "outputs": [],
   "source": [
    "def scale_features(df):\n",
    "    scaler = MinMaxScaler()\n",
    "    df_scaled = scaler.fit_transform(df)\n",
    "    df_scaled = pd.DataFrame(df_scaled, columns=df.columns, index=df.index)\n",
    "    return df_scaled"
   ]
  },
  {
   "cell_type": "code",
   "execution_count": 326,
   "metadata": {},
   "outputs": [
    {
     "name": "stdout",
     "output_type": "stream",
     "text": [
      "Grabbing train data from 'data/train.csv'...\n",
      "Grabbing test data from 'data/test.csv'...\n",
      "Data successfully loaded.\n",
      "Removing columns that are >50% null...\n",
      "4 columns were removed.\n",
      "Obtaining feature column names...\n",
      "34 numeric features obtained; 41 categorical features obtained\n",
      "Imputing data...\n",
      "Imputation complete.\n",
      "There are now 34 numerical features and 177 categorical features.\n",
      "Imputing data...\n",
      "Imputation complete.\n",
      "There are now 34 numerical features and 172 categorical features.\n",
      "Starting feature engineering...\n",
      "Feature engineering: transforming years to time since...\n",
      "Feature engineering: log transform of relevant numerical features...\n",
      "Feature engineering complete.\n",
      "Starting feature engineering...\n",
      "Feature engineering: transforming years to time since...\n",
      "Feature engineering: log transform of relevant numerical features...\n",
      "Feature engineering complete.\n"
     ]
    }
   ],
   "source": [
    "train_data, test_data = get_data()\n",
    "target = train_data['SalePrice']\n",
    "train_data = remove_null_columns(train_data)\n",
    "numerical_features, categorical_features = get_feature_lists(train_data)\n",
    "\n",
    "df_num_train, df_cat_train = impute_features(train_data[numerical_features].copy(), train_data[categorical_features].copy())\n",
    "df_num_test, df_cat_test = impute_features(test_data[numerical_features].copy(), test_data[categorical_features].copy())\n",
    "\n",
    "df_num_train, df_num_test = feature_engineering(df_num_train.copy()), feature_engineering(df_num_test.copy())\n",
    "df_num_train, df_num_test = scale_features(df_num_train.copy()), scale_features(df_num_test.copy())\n",
    "\n",
    "common_categories = prune_categorical_features(df_cat_train, df_cat_test)\n",
    "\n",
    "df_train = combine_dataframes(df_num_train, df_cat_train[common_categories])\n",
    "df_test = combine_dataframes(df_num_test, df_cat_test[common_categories])\n",
    "\n",
    "df_train, df_test = df_train.copy()[top_features], df_test.copy()[top_features]"
   ]
  },
  {
   "cell_type": "code",
   "execution_count": 163,
   "metadata": {},
   "outputs": [
    {
     "data": {
      "text/html": [
       "<div>\n",
       "<style scoped>\n",
       "    .dataframe tbody tr th:only-of-type {\n",
       "        vertical-align: middle;\n",
       "    }\n",
       "\n",
       "    .dataframe tbody tr th {\n",
       "        vertical-align: top;\n",
       "    }\n",
       "\n",
       "    .dataframe thead th {\n",
       "        text-align: right;\n",
       "    }\n",
       "</style>\n",
       "<table border=\"1\" class=\"dataframe\">\n",
       "  <thead>\n",
       "    <tr style=\"text-align: right;\">\n",
       "      <th></th>\n",
       "      <th>LotArea</th>\n",
       "      <th>LotFrontage</th>\n",
       "      <th>BsmtUnfSF</th>\n",
       "      <th>GrLivArea</th>\n",
       "      <th>OverallQual</th>\n",
       "      <th>HouseSFScore</th>\n",
       "      <th>BsmtFinSF1</th>\n",
       "      <th>GarageArea</th>\n",
       "      <th>PorchScore</th>\n",
       "      <th>BsmtIncompleteRatio</th>\n",
       "      <th>2ndFlrSF</th>\n",
       "      <th>GarageYrBlt</th>\n",
       "      <th>MasVnrArea</th>\n",
       "      <th>overallScore</th>\n",
       "      <th>WoodDeckSF</th>\n",
       "      <th>1stFlrSF</th>\n",
       "      <th>YearBuilt</th>\n",
       "      <th>OverallCond</th>\n",
       "      <th>ageScore</th>\n",
       "      <th>TotalBsmtSF</th>\n",
       "      <th>YearRemodAdd</th>\n",
       "      <th>BathScore</th>\n",
       "      <th>Neighborhood_StoneBr</th>\n",
       "      <th>OpenPorchSF</th>\n",
       "      <th>YrSold</th>\n",
       "    </tr>\n",
       "  </thead>\n",
       "  <tbody>\n",
       "    <tr>\n",
       "      <th>0</th>\n",
       "      <td>0.566300</td>\n",
       "      <td>0.589174</td>\n",
       "      <td>0.730486</td>\n",
       "      <td>0.312002</td>\n",
       "      <td>0.444444</td>\n",
       "      <td>0.030477</td>\n",
       "      <td>0.741323</td>\n",
       "      <td>0.902620</td>\n",
       "      <td>0.000013</td>\n",
       "      <td>0.000206</td>\n",
       "      <td>0.000000</td>\n",
       "      <td>0.788462</td>\n",
       "      <td>0.000000</td>\n",
       "      <td>0.400000</td>\n",
       "      <td>0.681466</td>\n",
       "      <td>0.312002</td>\n",
       "      <td>0.374046</td>\n",
       "      <td>0.625</td>\n",
       "      <td>0.383735</td>\n",
       "      <td>0.794653</td>\n",
       "      <td>0.816667</td>\n",
       "      <td>0.000000</td>\n",
       "      <td>0</td>\n",
       "      <td>0.000000</td>\n",
       "      <td>0.0</td>\n",
       "    </tr>\n",
       "    <tr>\n",
       "      <th>1</th>\n",
       "      <td>0.622472</td>\n",
       "      <td>0.594720</td>\n",
       "      <td>0.783517</td>\n",
       "      <td>0.467997</td>\n",
       "      <td>0.555556</td>\n",
       "      <td>0.068093</td>\n",
       "      <td>0.823054</td>\n",
       "      <td>0.786520</td>\n",
       "      <td>0.000004</td>\n",
       "      <td>0.000205</td>\n",
       "      <td>0.000000</td>\n",
       "      <td>0.798077</td>\n",
       "      <td>0.654926</td>\n",
       "      <td>0.485714</td>\n",
       "      <td>0.822970</td>\n",
       "      <td>0.467997</td>\n",
       "      <td>0.396947</td>\n",
       "      <td>0.625</td>\n",
       "      <td>0.426024</td>\n",
       "      <td>0.842638</td>\n",
       "      <td>0.866667</td>\n",
       "      <td>0.047619</td>\n",
       "      <td>0</td>\n",
       "      <td>0.546224</td>\n",
       "      <td>0.0</td>\n",
       "    </tr>\n",
       "    <tr>\n",
       "      <th>2</th>\n",
       "      <td>0.613950</td>\n",
       "      <td>0.554385</td>\n",
       "      <td>0.642487</td>\n",
       "      <td>0.548554</td>\n",
       "      <td>0.444444</td>\n",
       "      <td>0.058288</td>\n",
       "      <td>0.804475</td>\n",
       "      <td>0.845899</td>\n",
       "      <td>0.000004</td>\n",
       "      <td>0.000081</td>\n",
       "      <td>0.870383</td>\n",
       "      <td>0.673077</td>\n",
       "      <td>0.000000</td>\n",
       "      <td>0.328571</td>\n",
       "      <td>0.738274</td>\n",
       "      <td>0.325885</td>\n",
       "      <td>0.099237</td>\n",
       "      <td>0.500</td>\n",
       "      <td>0.042892</td>\n",
       "      <td>0.800602</td>\n",
       "      <td>0.200000</td>\n",
       "      <td>0.126984</td>\n",
       "      <td>0</td>\n",
       "      <td>0.537818</td>\n",
       "      <td>0.0</td>\n",
       "    </tr>\n",
       "    <tr>\n",
       "      <th>3</th>\n",
       "      <td>0.524520</td>\n",
       "      <td>0.577872</td>\n",
       "      <td>0.754180</td>\n",
       "      <td>0.542433</td>\n",
       "      <td>0.555556</td>\n",
       "      <td>0.057270</td>\n",
       "      <td>0.771613</td>\n",
       "      <td>0.842455</td>\n",
       "      <td>0.000004</td>\n",
       "      <td>0.000251</td>\n",
       "      <td>0.865959</td>\n",
       "      <td>0.669872</td>\n",
       "      <td>0.425024</td>\n",
       "      <td>0.485714</td>\n",
       "      <td>0.810925</td>\n",
       "      <td>0.325032</td>\n",
       "      <td>0.091603</td>\n",
       "      <td>0.625</td>\n",
       "      <td>0.040482</td>\n",
       "      <td>0.800350</td>\n",
       "      <td>0.200000</td>\n",
       "      <td>0.126984</td>\n",
       "      <td>0</td>\n",
       "      <td>0.546224</td>\n",
       "      <td>0.0</td>\n",
       "    </tr>\n",
       "    <tr>\n",
       "      <th>4</th>\n",
       "      <td>0.335525</td>\n",
       "      <td>0.313321</td>\n",
       "      <td>0.903060</td>\n",
       "      <td>0.453130</td>\n",
       "      <td>0.777778</td>\n",
       "      <td>0.063167</td>\n",
       "      <td>0.672061</td>\n",
       "      <td>0.852536</td>\n",
       "      <td>0.001260</td>\n",
       "      <td>0.001800</td>\n",
       "      <td>0.000000</td>\n",
       "      <td>0.689103</td>\n",
       "      <td>0.000000</td>\n",
       "      <td>0.542857</td>\n",
       "      <td>0.000000</td>\n",
       "      <td>0.453130</td>\n",
       "      <td>0.137405</td>\n",
       "      <td>0.500</td>\n",
       "      <td>0.073735</td>\n",
       "      <td>0.838240</td>\n",
       "      <td>0.300000</td>\n",
       "      <td>0.047619</td>\n",
       "      <td>1</td>\n",
       "      <td>0.668438</td>\n",
       "      <td>0.0</td>\n",
       "    </tr>\n",
       "  </tbody>\n",
       "</table>\n",
       "</div>"
      ],
      "text/plain": [
       "    LotArea  LotFrontage  BsmtUnfSF  GrLivArea  OverallQual  HouseSFScore  \\\n",
       "0  0.566300     0.589174   0.730486   0.312002     0.444444      0.030477   \n",
       "1  0.622472     0.594720   0.783517   0.467997     0.555556      0.068093   \n",
       "2  0.613950     0.554385   0.642487   0.548554     0.444444      0.058288   \n",
       "3  0.524520     0.577872   0.754180   0.542433     0.555556      0.057270   \n",
       "4  0.335525     0.313321   0.903060   0.453130     0.777778      0.063167   \n",
       "\n",
       "   BsmtFinSF1  GarageArea  PorchScore  BsmtIncompleteRatio  2ndFlrSF  \\\n",
       "0    0.741323    0.902620    0.000013             0.000206  0.000000   \n",
       "1    0.823054    0.786520    0.000004             0.000205  0.000000   \n",
       "2    0.804475    0.845899    0.000004             0.000081  0.870383   \n",
       "3    0.771613    0.842455    0.000004             0.000251  0.865959   \n",
       "4    0.672061    0.852536    0.001260             0.001800  0.000000   \n",
       "\n",
       "   GarageYrBlt  MasVnrArea  overallScore  WoodDeckSF  1stFlrSF  YearBuilt  \\\n",
       "0     0.788462    0.000000      0.400000    0.681466  0.312002   0.374046   \n",
       "1     0.798077    0.654926      0.485714    0.822970  0.467997   0.396947   \n",
       "2     0.673077    0.000000      0.328571    0.738274  0.325885   0.099237   \n",
       "3     0.669872    0.425024      0.485714    0.810925  0.325032   0.091603   \n",
       "4     0.689103    0.000000      0.542857    0.000000  0.453130   0.137405   \n",
       "\n",
       "   OverallCond  ageScore  TotalBsmtSF  YearRemodAdd  BathScore  \\\n",
       "0        0.625  0.383735     0.794653      0.816667   0.000000   \n",
       "1        0.625  0.426024     0.842638      0.866667   0.047619   \n",
       "2        0.500  0.042892     0.800602      0.200000   0.126984   \n",
       "3        0.625  0.040482     0.800350      0.200000   0.126984   \n",
       "4        0.500  0.073735     0.838240      0.300000   0.047619   \n",
       "\n",
       "   Neighborhood_StoneBr  OpenPorchSF  YrSold  \n",
       "0                     0     0.000000     0.0  \n",
       "1                     0     0.546224     0.0  \n",
       "2                     0     0.537818     0.0  \n",
       "3                     0     0.546224     0.0  \n",
       "4                     1     0.668438     0.0  "
      ]
     },
     "execution_count": 163,
     "metadata": {},
     "output_type": "execute_result"
    }
   ],
   "source": [
    "df_test.head()"
   ]
  },
  {
   "cell_type": "code",
   "execution_count": 327,
   "metadata": {},
   "outputs": [],
   "source": [
    "X_train, X_test, y_train, y_test = train_test_split(df_train, target, test_size=0.2, random_state=23)"
   ]
  },
  {
   "cell_type": "code",
   "execution_count": 238,
   "metadata": {},
   "outputs": [],
   "source": [
    "# def basic_model_1(x_size, y_size):\n",
    "#     t_model = Sequential()\n",
    "#     t_model.add(Dense(100, activation=\"tanh\", input_shape=(x_size,)))\n",
    "#     t_model.add(Dense(50, activation=\"relu\"))\n",
    "#     t_model.add(Dense(y_size))\n",
    "#     print(t_model.summary())\n",
    "#     t_model.compile(loss='mean_squared_error',\n",
    "#         optimizer=Adam(),\n",
    "#         metrics=[metrics.mae])\n",
    "#     return(t_model)"
   ]
  },
  {
   "cell_type": "code",
   "execution_count": 328,
   "metadata": {},
   "outputs": [
    {
     "data": {
      "text/plain": [
       "(1168, 30)"
      ]
     },
     "execution_count": 328,
     "metadata": {},
     "output_type": "execute_result"
    }
   ],
   "source": [
    "X_train.shape"
   ]
  },
  {
   "cell_type": "code",
   "execution_count": 240,
   "metadata": {},
   "outputs": [],
   "source": [
    "model = Sequential()"
   ]
  },
  {
   "cell_type": "code",
   "execution_count": 241,
   "metadata": {},
   "outputs": [],
   "source": [
    "model.add(Dense(100, activation='tanh', input_shape=(X_train.shape[1],)))"
   ]
  },
  {
   "cell_type": "code",
   "execution_count": 242,
   "metadata": {},
   "outputs": [],
   "source": [
    "model.add(Dense(50, activation='relu'))"
   ]
  },
  {
   "cell_type": "code",
   "execution_count": 244,
   "metadata": {},
   "outputs": [],
   "source": [
    "model.add(Dense(1))"
   ]
  },
  {
   "cell_type": "code",
   "execution_count": 245,
   "metadata": {},
   "outputs": [
    {
     "name": "stdout",
     "output_type": "stream",
     "text": [
      "_________________________________________________________________\n",
      "Layer (type)                 Output Shape              Param #   \n",
      "=================================================================\n",
      "dense_195 (Dense)            (None, 100)               2600      \n",
      "_________________________________________________________________\n",
      "dense_196 (Dense)            (None, 50)                5050      \n",
      "_________________________________________________________________\n",
      "dense_197 (Dense)            (None, 1)                 51        \n",
      "=================================================================\n",
      "Total params: 7,701\n",
      "Trainable params: 7,701\n",
      "Non-trainable params: 0\n",
      "_________________________________________________________________\n",
      "None\n"
     ]
    }
   ],
   "source": [
    "print(model.summary())"
   ]
  },
  {
   "cell_type": "code",
   "execution_count": 247,
   "metadata": {},
   "outputs": [],
   "source": [
    "model.compile(loss='mean_squared_error', optimizer='adam')"
   ]
  },
  {
   "cell_type": "code",
   "execution_count": 251,
   "metadata": {},
   "outputs": [],
   "source": [
    "def baseline_model():\n",
    "#     adam = Adam(lr=0.001, beta_1=0.9, beta_2=0.999, epsilon=1e-08, decay=0.0)\n",
    "    model = Sequential()\n",
    "    model.add(Dense(100, activation='tanh', input_shape=(X_train.shape[1],)))\n",
    "    model.add(Dense(50, activation='relu'))\n",
    "    model.add(Dense(1))\n",
    "    model.compile(loss='mean_squared_error', optimizer='adam')\n",
    "    return model"
   ]
  },
  {
   "cell_type": "code",
   "execution_count": 329,
   "metadata": {},
   "outputs": [],
   "source": [
    "def basic_model_3():\n",
    "    t_model = Sequential()\n",
    "    t_model.add(Dense(80, activation=\"tanh\", kernel_initializer='normal', input_shape=(X_train.shape[1],)))\n",
    "    t_model.add(Dropout(0.3))\n",
    "    t_model.add(Dense(120, activation=\"relu\", kernel_initializer='normal', \n",
    "                      kernel_regularizer=regularizers.l1(0.01), bias_regularizer=regularizers.l1(0.01)))\n",
    "    t_model.add(Dropout(0.2))\n",
    "    t_model.add(Dense(20, activation=\"relu\", kernel_initializer='normal', \n",
    "                      kernel_regularizer=regularizers.l1_l2(0.01), bias_regularizer=regularizers.l1_l2(0.01)))\n",
    "    t_model.add(Dropout(0.2))\n",
    "    t_model.add(Dense(10, activation=\"relu\", kernel_initializer='normal'))\n",
    "    t_model.add(Dropout(0.0))\n",
    "    t_model.add(Dense(1))\n",
    "    t_model.compile(loss='mean_squared_error', optimizer='adam')\n",
    "    return(t_model)"
   ]
  },
  {
   "cell_type": "code",
   "execution_count": 296,
   "metadata": {},
   "outputs": [
    {
     "data": {
      "text/plain": [
       "<keras.engine.sequential.Sequential at 0x17f6ab40dd8>"
      ]
     },
     "execution_count": 296,
     "metadata": {},
     "output_type": "execute_result"
    }
   ],
   "source": [
    "model"
   ]
  },
  {
   "cell_type": "code",
   "execution_count": 330,
   "metadata": {},
   "outputs": [],
   "source": [
    "estimator = KerasRegressor(build_fn=basic_model_3, nb_epoch=200, batch_size=5, verbose=0)"
   ]
  },
  {
   "cell_type": "code",
   "execution_count": 279,
   "metadata": {},
   "outputs": [],
   "source": [
    "kfold = KFold(n_splits=10, random_state=42)"
   ]
  },
  {
   "cell_type": "code",
   "execution_count": 280,
   "metadata": {},
   "outputs": [],
   "source": [
    "results = cross_val_score(estimator, X_train, y_train, cv=kfold, n_jobs=1)"
   ]
  },
  {
   "cell_type": "code",
   "execution_count": 281,
   "metadata": {},
   "outputs": [
    {
     "name": "stdout",
     "output_type": "stream",
     "text": [
      "Results: -7878878956.754259 (2460623974.4745364) MSE\n"
     ]
    }
   ],
   "source": [
    "print(\"Results: {} ({}) MSE\".format(results.mean(), results.std()))"
   ]
  },
  {
   "cell_type": "code",
   "execution_count": 331,
   "metadata": {},
   "outputs": [
    {
     "data": {
      "text/plain": [
       "<keras.callbacks.History at 0x17f134da898>"
      ]
     },
     "execution_count": 331,
     "metadata": {},
     "output_type": "execute_result"
    }
   ],
   "source": [
    "estimator.fit(X_train, y_train, epochs=4000, batch_size=128, verbose=0)"
   ]
  },
  {
   "cell_type": "code",
   "execution_count": 306,
   "metadata": {},
   "outputs": [
    {
     "ename": "AttributeError",
     "evalue": "'KerasRegressor' object has no attribute 'evaluate'",
     "output_type": "error",
     "traceback": [
      "\u001b[1;31m---------------------------------------------------------------------------\u001b[0m",
      "\u001b[1;31mAttributeError\u001b[0m                            Traceback (most recent call last)",
      "\u001b[1;32m<ipython-input-306-a7d5414d7df4>\u001b[0m in \u001b[0;36m<module>\u001b[1;34m()\u001b[0m\n\u001b[1;32m----> 1\u001b[1;33m \u001b[0mscore\u001b[0m \u001b[1;33m=\u001b[0m \u001b[0mestimator\u001b[0m\u001b[1;33m.\u001b[0m\u001b[0mevaluate\u001b[0m\u001b[1;33m(\u001b[0m\u001b[0mX_test\u001b[0m\u001b[1;33m,\u001b[0m \u001b[0my_test\u001b[0m\u001b[1;33m,\u001b[0m \u001b[0mbatch_size\u001b[0m\u001b[1;33m=\u001b[0m\u001b[1;36m128\u001b[0m\u001b[1;33m)\u001b[0m\u001b[1;33m\u001b[0m\u001b[0m\n\u001b[0m",
      "\u001b[1;31mAttributeError\u001b[0m: 'KerasRegressor' object has no attribute 'evaluate'"
     ]
    }
   ],
   "source": [
    "score = estimator.evaluate(X_test, y_test, batch_size=128)"
   ]
  },
  {
   "cell_type": "code",
   "execution_count": 299,
   "metadata": {},
   "outputs": [
    {
     "data": {
      "text/plain": [
       "491640789.91780823"
      ]
     },
     "execution_count": 299,
     "metadata": {},
     "output_type": "execute_result"
    }
   ],
   "source": [
    "score"
   ]
  },
  {
   "cell_type": "code",
   "execution_count": 185,
   "metadata": {},
   "outputs": [],
   "source": [
    "def r2_keras(y_true, y_pred):\n",
    "    SS_res = K.sum(K.square(y_true - y_pred))\n",
    "    SS_tot = K.sum(K.square(y_true - K.mean(y_true)))\n",
    "    return ( 1 - SS_res / (SS_tot + K.epsilon()) )"
   ]
  },
  {
   "cell_type": "code",
   "execution_count": 336,
   "metadata": {},
   "outputs": [
    {
     "name": "stdout",
     "output_type": "stream",
     "text": [
      "Generating submission file...\n",
      "Submission file is ready.\n"
     ]
    }
   ],
   "source": [
    "predictions = estimator.predict(df_test)\n",
    "    \n",
    "create_submission(test_data, predictions)"
   ]
  },
  {
   "cell_type": "code",
   "execution_count": null,
   "metadata": {},
   "outputs": [],
   "source": []
  }
 ],
 "metadata": {
  "kernelspec": {
   "display_name": "Python 3",
   "language": "python",
   "name": "python3"
  },
  "language_info": {
   "codemirror_mode": {
    "name": "ipython",
    "version": 3
   },
   "file_extension": ".py",
   "mimetype": "text/x-python",
   "name": "python",
   "nbconvert_exporter": "python",
   "pygments_lexer": "ipython3",
   "version": "3.6.6"
  }
 },
 "nbformat": 4,
 "nbformat_minor": 2
}
