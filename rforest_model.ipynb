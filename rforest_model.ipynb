{
 "cells": [
  {
   "cell_type": "code",
   "execution_count": 2,
   "metadata": {},
   "outputs": [],
   "source": [
    "# Random Forest Model Notebook"
   ]
  },
  {
   "cell_type": "code",
   "execution_count": 16,
   "metadata": {},
   "outputs": [],
   "source": [
    "# ---------------------------- #"
   ]
  },
  {
   "cell_type": "code",
   "execution_count": 4,
   "metadata": {},
   "outputs": [],
   "source": [
    "# import functions from model_functions notebook"
   ]
  },
  {
   "cell_type": "code",
   "execution_count": 17,
   "metadata": {},
   "outputs": [],
   "source": [
    "%run -i model_functions.ipynb"
   ]
  },
  {
   "cell_type": "code",
   "execution_count": 52,
   "metadata": {},
   "outputs": [
    {
     "name": "stdout",
     "output_type": "stream",
     "text": [
      "Grabbing train data from 'data/train.csv'...\n",
      "Grabbing test data from 'data/test.csv'...\n",
      "Data successfully loaded.\n"
     ]
    }
   ],
   "source": [
    "a, b, = get_data()"
   ]
  },
  {
   "cell_type": "code",
   "execution_count": 53,
   "metadata": {},
   "outputs": [
    {
     "name": "stdout",
     "output_type": "stream",
     "text": [
      "Grabbing train data from 'xgb_influence_train.csv'...\n",
      "Grabbing test data from 'xgb_influence_test.csv'...\n",
      "Data successfully loaded.\n"
     ]
    }
   ],
   "source": [
    "c, d = get_data(train_data_path='xgb_influence_train.csv', test_data_path='xgb_influence_test.csv')"
   ]
  },
  {
   "cell_type": "code",
   "execution_count": 57,
   "metadata": {},
   "outputs": [],
   "source": [
    "def run_model():\n",
    "    \n",
    "    train_data, test_data = get_data()\n",
    "    \n",
    "    # experiment: adding xgboost data to the training and testing data\n",
    "    xgb_train, xgb_test = get_data(train_data_path='xgb_influence_train.csv', test_data_path='xgb_influence_test.csv')\n",
    "    train_data, test_data = train_data.join(xgb_train), test_data.join(xgb_test)\n",
    "    \n",
    "    \n",
    "    target = train_data['SalePrice']\n",
    "    train_data = remove_null_columns(train_data)\n",
    "    numerical_features, categorical_features = get_feature_lists(train_data)\n",
    "    \n",
    "    df_num_train, df_cat_train = impute_features(train_data[numerical_features].copy(), train_data[categorical_features].copy())\n",
    "    df_num_test, df_cat_test = impute_features(test_data[numerical_features].copy(), test_data[categorical_features].copy())\n",
    "    \n",
    "    common_categories = prune_categorical_features(df_cat_train, df_cat_test)\n",
    "    \n",
    "    df_train = combine_dataframes(df_num_train, df_cat_train[common_categories])\n",
    "    df_test = combine_dataframes(df_num_test, df_cat_test[common_categories])\n",
    "    \n",
    "    df_train = feature_engineering(df_train.copy())\n",
    "    df_test = feature_engineering(df_test.copy())\n",
    "    \n",
    "    # Change the line below to substitute different models\n",
    "    model = random_forest_model(df_train, target=target)\n",
    "    \n",
    "    predictions = model.predict(df_test)\n",
    "    \n",
    "    create_submission(test_data, predictions)\n",
    "    \n",
    "    return model, df_train"
   ]
  },
  {
   "cell_type": "code",
   "execution_count": 58,
   "metadata": {},
   "outputs": [
    {
     "name": "stdout",
     "output_type": "stream",
     "text": [
      "Grabbing train data from 'data/train.csv'...\n",
      "Grabbing test data from 'data/test.csv'...\n",
      "Data successfully loaded.\n",
      "Grabbing train data from 'xgb_influence_train.csv'...\n",
      "Grabbing test data from 'xgb_influence_test.csv'...\n",
      "Data successfully loaded.\n",
      "Removing columns that are >50% null...\n",
      "4 columns were removed.\n",
      "Obtaining feature column names...\n",
      "35 numeric features obtained; 41 categorical features obtained\n",
      "Imputing data...\n",
      "Imputation complete.\n",
      "There are now 35 numerical features and 177 categorical features.\n",
      "Imputing data...\n",
      "Imputation complete.\n",
      "There are now 35 numerical features and 172 categorical features.\n",
      "Starting feature engineering...\n",
      "Feature engineering: transforming years to time since...\n",
      "Feature engineering: log transform of relevant numerical features...\n",
      "Feature engineering complete.\n",
      "Starting feature engineering...\n",
      "Feature engineering: transforming years to time since...\n",
      "Feature engineering: log transform of relevant numerical features...\n",
      "Feature engineering complete.\n",
      "Building random forest model...\n",
      "The model's R2 score is: 0.9321645380255029\n",
      "Generating submission file...\n",
      "Submission file is ready.\n"
     ]
    }
   ],
   "source": [
    "optimal_model, df_train = run_model()"
   ]
  },
  {
   "cell_type": "code",
   "execution_count": 14,
   "metadata": {},
   "outputs": [
    {
     "name": "stdout",
     "output_type": "stream",
     "text": [
      "Gathering feature importances...\n",
      "Featue importances obtained.\n"
     ]
    }
   ],
   "source": [
    "feature_importances = get_rf_feature_importances(df=df_train, rf_model=optimal_model)"
   ]
  },
  {
   "cell_type": "code",
   "execution_count": 59,
   "metadata": {},
   "outputs": [
    {
     "data": {
      "text/plain": [
       "OverallQual              4.546481e-01\n",
       "HouseSFScore             2.969223e-01\n",
       "2ndFlrSF                 3.285983e-02\n",
       "GrLivArea                2.089121e-02\n",
       "overallScore             1.894936e-02\n",
       "BathScore                1.680217e-02\n",
       "LotArea                  1.121333e-02\n",
       "YearBuilt                8.747395e-03\n",
       "GarageScore              8.388130e-03\n",
       "ageScore                 8.141439e-03\n",
       "LotFrontage              7.532865e-03\n",
       "BsmtFinSF1               6.599176e-03\n",
       "KitchenQual_High         6.400068e-03\n",
       "BsmtUnfSF                5.483581e-03\n",
       "TotRmsAbvGrd             5.054594e-03\n",
       "1stFlrSF                 4.873084e-03\n",
       "GarageCars               4.396850e-03\n",
       "TotalBsmtSF              4.302574e-03\n",
       "GarageArea               4.282661e-03\n",
       "WoodDeckSF               3.886027e-03\n",
       "MasVnrArea               3.875692e-03\n",
       "PorchScore               3.875041e-03\n",
       "BsmtIncompleteRatio      3.807713e-03\n",
       "OpenPorchSF              3.570873e-03\n",
       "YearRemodAdd             3.370250e-03\n",
       "GarageYrBlt              3.357706e-03\n",
       "Fireplaces               2.951621e-03\n",
       "FullBath                 2.218059e-03\n",
       "ExterQual_Gd             2.125336e-03\n",
       "BedroomAbvGr             1.703095e-03\n",
       "                             ...     \n",
       "Neighborhood_Veenker     2.683403e-06\n",
       "BsmtQual_Low             2.616515e-06\n",
       "GarageCond_Po            2.444988e-06\n",
       "MSSubClass_2halfstory    2.184609e-06\n",
       "GarageCond_Fa            2.083541e-06\n",
       "BsmtFinType2_missing     1.849546e-06\n",
       "BsmtQual_missing         1.577595e-06\n",
       "Condition2_Norm          9.575120e-07\n",
       "BsmtExposure_missing     7.045013e-07\n",
       "Foundation_Medium        5.195516e-07\n",
       "Neighborhood_NPkVill     3.845482e-07\n",
       "BsmtFinType1_missing     3.467752e-07\n",
       "Neighborhood_MeadowV     3.234044e-07\n",
       "BsmtCond_missing         2.863283e-07\n",
       "Heating_Wall             1.170027e-07\n",
       "BsmtFinType2_High        3.289622e-08\n",
       "Exterior2nd_Brk Cmn      7.675198e-09\n",
       "GarageCond_Ex            0.000000e+00\n",
       "SaleCondition_NonSale    0.000000e+00\n",
       "GarageCond_Gd            0.000000e+00\n",
       "MasVnrType_missing       0.000000e+00\n",
       "Condition2_PosA          0.000000e+00\n",
       "Heating_GasW             0.000000e+00\n",
       "RoofMatl_WdShake         0.000000e+00\n",
       "Street_Grvl              0.000000e+00\n",
       "Street_Pave              0.000000e+00\n",
       "Condition2_Artery        0.000000e+00\n",
       "Utilities_AllPub         0.000000e+00\n",
       "Neighborhood_Blueste     0.000000e+00\n",
       "Condition2_Feedr         0.000000e+00\n",
       "Length: 206, dtype: float64"
      ]
     },
     "execution_count": 59,
     "metadata": {},
     "output_type": "execute_result"
    }
   ],
   "source": [
    "feature_importances"
   ]
  }
 ],
 "metadata": {
  "kernelspec": {
   "display_name": "Python 3",
   "language": "python",
   "name": "python3"
  },
  "language_info": {
   "codemirror_mode": {
    "name": "ipython",
    "version": 3
   },
   "file_extension": ".py",
   "mimetype": "text/x-python",
   "name": "python",
   "nbconvert_exporter": "python",
   "pygments_lexer": "ipython3",
   "version": "3.6.6"
  }
 },
 "nbformat": 4,
 "nbformat_minor": 2
}
